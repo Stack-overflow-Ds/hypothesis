{
 "cells": [
  {
   "cell_type": "code",
   "execution_count": 5,
   "metadata": {},
   "outputs": [
    {
     "name": "stdout",
     "output_type": "stream",
     "text": [
      "H0 : μ <= 20.024585477415666\n",
      "H1 : μ > 20.024585477415666\n",
      "alpha value is : 0.05 \n",
      "\n",
      "actual z value : 1.6448536269514729\n",
      "hypothesis z value : 1.3065685067680943 \n",
      "\n",
      "Failed to reject NULL hypothesis\n"
     ]
    }
   ],
   "source": [
    "import os\n",
    "import struct\n",
    "import pandas as pd\n",
    "import math\n",
    "import numpy as np\n",
    "from scipy import stats\n",
    "from scipy.stats import norm\n",
    "from sklearn.preprocessing import StandardScaler\n",
    "from scipy import stats\n",
    "import scipy.stats\n",
    "import warnings\n",
    "warnings.filterwarnings('ignore')\n",
    "%matplotlib inline\n",
    "import seaborn as sns\n",
    "import matplotlib.pyplot as plt\n",
    "import collections\n",
    "\n",
    "from numpy import random\n",
    "import matplotlib.pyplot as plt\n",
    "import seaborn as sns\n",
    "\n",
    "df = pd.read_csv(r\"C:\\Users\\Administrator\\Desktop\\csv_file\\Questions.csv\", nrows=50000,usecols =['Id', 'OwnerUserId', 'CreationDate', 'ClosedDate', 'Score','Title','Body'],encoding='latin1')\n",
    "df = df.dropna()\n",
    "lowerDate = np.datetime64('2017-07-24')\n",
    "upperDate = np.datetime64('2017-07-26')\n",
    "\n",
    "dff=df.loc[(df.CreationDate >= '2008-1-1') & (df.CreationDate <= '2008-9-1'), ['CreationDate','Score']]\n",
    "def hypo(sample_mean, pop_mean, std_dev, sample_size, alpha):\n",
    "    actual_z = abs(norm.ppf(alpha))\n",
    "    hypo_z = (sample_mean - pop_mean) / (std_dev/math.sqrt(sample_size))\n",
    "    print('actual z value :', actual_z)\n",
    "    print('hypothesis z value :', hypo_z, '\\n')\n",
    "    if hypo_z >= actual_z:\n",
    "        return True\n",
    "    else:\n",
    "        return False\n",
    "    \n",
    "alpha = 0.05\n",
    "sample_mean = np.mean(dff.Score)\n",
    "pop_mean = df['Score'].mean()\n",
    "sample_size =  70\n",
    "std_dev = np.std(df.Score, ddof=1)\n",
    "\n",
    "print('H0 : μ <=', pop_mean)\n",
    "print('H1 : μ >', pop_mean)\n",
    "print('alpha value is :', alpha, '\\n')\n",
    "\n",
    "reject=hypo(sample_mean, pop_mean, std_dev, sample_size, alpha)\n",
    "if reject:\n",
    "    print('Reject NULL hypothesis')\n",
    "else:\n",
    "     print('Failed to reject NULL hypothesis')"
   ]
  },
  {
   "cell_type": "code",
   "execution_count": null,
   "metadata": {},
   "outputs": [],
   "source": []
  }
 ],
 "metadata": {
  "kernelspec": {
   "display_name": "Python 3",
   "language": "python",
   "name": "python3"
  },
  "language_info": {
   "codemirror_mode": {
    "name": "ipython",
    "version": 3
   },
   "file_extension": ".py",
   "mimetype": "text/x-python",
   "name": "python",
   "nbconvert_exporter": "python",
   "pygments_lexer": "ipython3",
   "version": "3.7.4"
  }
 },
 "nbformat": 4,
 "nbformat_minor": 2
}
